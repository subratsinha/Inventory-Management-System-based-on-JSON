print("**********************************************")
print("welcome to the inventory management system")
print("**********************************************")
print("                                               ")
print("                                               ")
print("1--->Add Product in inventory")
print("2--->Genrate Bill for Customer")
print("3--->Check items in inventory")
print("4--->Update Sales Record")
print("5--->View Sales Record")
print("                                               ")
print("                                               ")


n=int(input("enter your option"))
if(n==0 or n>5):
    print("Invalid Option")
    
if(n==1):
    prod_id = str(input("Enter product id:"))
    name = str(input("Enter name:"))
    pr = int(input("Enter price:"))
    qn = int(input("Enter quantity:"))

    record[prod_id] = {'name': name, 'price': pr, 'quantity': qn}

    js = json.dumps(record)

    fd = open("record.json",'w')
    fd.write(js)
    fd.close()
    
elif(n==2):
    ui_prod  = str(input("Enter the product_Id: "))
    ui_quant = int(input("Enter the quantity: "))


    print("*****************************************")
    print("Product: ", record[ui_prod]['name'])
    print("Price: ", record[ui_prod]['price'])
    print("------------------------------------------")
    print("Billing Amount: ", record[ui_prod]['price'] * ui_quant)
    print("****************************************")

    record[ui_prod]['quantity'] = record[ui_prod]['quantity'] - ui_quant
    
    js = json.dumps(record)

    fd = open("records.json",'w')
    fd.write(js)
    fd.close()
    
elif(n==3):
   

    fd = open("records.json",'r')
    r = fd.read()
    fd.close()

    record = json.loads(r)
    print(record)
    
elif(n==4):
    s=int(input("enter the sales id"))
    sales[s] = {'product' : ui_prod, 'quantity' : ui_quant, 'amount': record[ui_prod]['price'] * ui_quant}

    sale = json.dumps(sales)
    fd = open("sales.json",'w')
    fd.write(sale)
    fd.close()
    
    sale = json.dumps(sales)
    fd = open("sales.json",'w')
    fd.write(sale)
    fd.close()
    
    print("Sales Book is updated")
    
elif(n==5):
    sale = json.dumps(sales)
    fd = open("sales.json",'w')
    fd.write(sale)
    fd.close()
    print(sale)
    
else:
    print("Invalid number")
