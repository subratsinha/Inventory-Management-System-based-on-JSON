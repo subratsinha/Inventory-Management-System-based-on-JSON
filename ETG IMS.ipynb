{
 "cells": [
  {
   "cell_type": "code",
   "execution_count": 3,
   "metadata": {},
   "outputs": [],
   "source": [
    "\n",
    "fd = open(\"Records.txt\",\"r\")\n",
    "txt = fd.read()\n",
    "fd.close()"
   ]
  },
  {
   "cell_type": "code",
   "execution_count": 37,
   "metadata": {},
   "outputs": [
    {
     "name": "stdout",
     "output_type": "stream",
     "text": [
      "Enter the product_Id: 1001\n",
      "Enter the quantity: 10\n",
      "***********************\n",
      "Product ID:  1001\n",
      "Name:  chocolate\n",
      "Price:  30\n",
      "Quant:  10\n",
      "------------------------\n",
      "Billing Amout:  300\n",
      "***********************\n"
     ]
    }
   ],
   "source": [
    "products = txt.split(\"\\n\")\n",
    "\n",
    "ui_prod  = str(input(\"Enter the product_Id: \"))\n",
    "ui_quant = int(input(\"Enter the quantity: \"))\n",
    "\n",
    "for product in products:\n",
    "    prod = product.split(\",\")\n",
    "    \n",
    "    \n",
    "    if(prod[0] == ui_prod):\n",
    "        print(\"***********************\")\n",
    "        print(\"Product ID: \", prod[0])\n",
    "        print(\"Name: \", prod[1])\n",
    "        print(\"Price: \",prod[2])\n",
    "        print(\"Quant: \",ui_quant)\n",
    "        print(\"------------------------\")\n",
    "        print(\"Billing Amout: \", ui_quant * int(prod[2]))\n",
    "        print(\"***********************\")\n",
    "        \n",
    "        \n"
   ]
  },
  {
   "cell_type": "code",
   "execution_count": 49,
   "metadata": {},
   "outputs": [],
   "source": [
    "record={\"1001\":{\"name\":'chocolate' , \"price\":30 , \"quantity\":110},\n",
    "       \"1002\":{\"name\":'SoftDrink' , \"price\":45 , \"quantity\":115},\n",
    "       \"1003\":{\"name\":'cake' , \"price\":60 , \"quantity\":114},\n",
    "       \"1004\":{\"name\":'chips' , \"price\":15 , \"quantity\":150},\n",
    "       \"1005\":{\"name\":'MineralWater' , \"price\":10 , \"quantity\":80},\n",
    "       \"1006\":{\"name\":'spices' , \"price\":10 , \"quantity\":120},\n",
    "       \"1007\":{\"name\":'cereals' , \"price\":50 , \"quantity\":200},\n",
    "       \"1008\":{\"name\":'CornFlakes' , \"price\":120 , \"quantity\":100},\n",
    "       \"1009\":{\"name\":'Maggie' , \"price\":12 , \"quantity\":100},\n",
    "       \"1010\":{\"name\":'Biscuits' , \"price\":15 , \"quantity\":114},\n",
    "       \"1011\":{\"name\":'candy' , \"price\":5 , \"quantity\":90},\n",
    "       \"1012\":{\"name\":'MilkCake' , \"price\":50 , \"quantity\":100},\n",
    "       \"1013\":{\"name\":'cookies' , \"price\":40 , \"quantity\":110},\n",
    "       \"1014\":{\"name\":'juice' , \"price\":70 , \"quantity\":200},\n",
    "       \"1015\":{\"name\":'noodles' , \"price\":20 , \"quantity\":116},\n",
    "       \"1016\":{\"name\":'Notebooks' , \"price\":40 , \"quantity\":110},\n",
    "       \"1017\":{\"name\":'Pencil' , \"price\":5 , \"quantity\":70},\n",
    "       \"1018\":{\"name\":'Pen' , \"price\":10 , \"quantity\":90},\n",
    "       \"1019\":{\"name\":'ChocolateCake' , \"price\":110, \"quantity\":50},\n",
    "       \"1020\":{\"name\":'earphones' , \"price\":50 , \"quantity\":150},\n",
    "       \"1021\":{\"name\":'PhoneCase' , \"price\":70 , \"quantity\":100},\n",
    "       \"1022\":{\"name\":'Headphones' , \"price\":1500 , \"quantity\":100},\n",
    "       \"1023\":{\"name\":'WirelessMouse' , \"price\":120 , \"quantity\":50},\n",
    "       \"1024\":{\"name\":'CelloTape' , \"price\":50 , \"quantity\":80},\n",
    "       \"1025\":{\"name\":'Fevicol', \"price\":20 , \"quantity\":60},\n",
    "       \"1026\":{\"name\":'writingpad' , \"price\":60 , \"quantity\":100},\n",
    "       \"1027\":{\"name\":'Scissor' , \"price\":30 , \"quantity\":70},\n",
    "       \"1028\":{\"name\":'Pasta' , \"price\":15 , \"quantity\":80},\n",
    "       \"1029\":{\"name\":'Bread' , \"price\":10 , \"quantity\":40},\n",
    "       \"1030\":{\"name\":'Butter' , \"price\":50 , \"quantity\":60}}"
   ]
  },
  {
   "cell_type": "code",
   "execution_count": 50,
   "metadata": {},
   "outputs": [
    {
     "data": {
      "text/plain": [
       "{'1001': {'name': 'chocolate', 'price': 30, 'quantity': 110},\n",
       " '1002': {'name': 'SoftDrink', 'price': 45, 'quantity': 115},\n",
       " '1003': {'name': 'cake', 'price': 60, 'quantity': 114},\n",
       " '1004': {'name': 'chips', 'price': 15, 'quantity': 150},\n",
       " '1005': {'name': 'MineralWater', 'price': 10, 'quantity': 80},\n",
       " '1006': {'name': 'spices', 'price': 10, 'quantity': 120},\n",
       " '1007': {'name': 'cereals', 'price': 50, 'quantity': 200},\n",
       " '1008': {'name': 'CornFlakes', 'price': 120, 'quantity': 100},\n",
       " '1009': {'name': 'Maggie', 'price': 12, 'quantity': 100},\n",
       " '1010': {'name': 'Biscuits', 'price': 15, 'quantity': 114},\n",
       " '1011': {'name': 'candy', 'price': 5, 'quantity': 90},\n",
       " '1012': {'name': 'MilkCake', 'price': 50, 'quantity': 100},\n",
       " '1013': {'name': 'cookies', 'price': 40, 'quantity': 110},\n",
       " '1014': {'name': 'juice', 'price': 70, 'quantity': 200},\n",
       " '1015': {'name': 'noodles', 'price': 20, 'quantity': 116},\n",
       " '1016': {'name': 'Notebooks', 'price': 40, 'quantity': 110},\n",
       " '1017': {'name': 'Pencil', 'price': 5, 'quantity': 70},\n",
       " '1018': {'name': 'Pen', 'price': 10, 'quantity': 90},\n",
       " '1019': {'name': 'ChocolateCake', 'price': 110, 'quantity': 50},\n",
       " '1020': {'name': 'earphones', 'price': 50, 'quantity': 150},\n",
       " '1021': {'name': 'PhoneCase', 'price': 70, 'quantity': 100},\n",
       " '1022': {'name': 'Headphones', 'price': 1500, 'quantity': 100},\n",
       " '1023': {'name': 'WirelessMouse', 'price': 120, 'quantity': 50},\n",
       " '1024': {'name': 'CelloTape', 'price': 50, 'quantity': 80},\n",
       " '1025': {'name': 'Fevicol', 'price': 20, 'quantity': 60},\n",
       " '1026': {'name': 'writingpad', 'price': 60, 'quantity': 100},\n",
       " '1027': {'name': 'Scissor', 'price': 30, 'quantity': 70},\n",
       " '1028': {'name': 'Pasta', 'price': 15, 'quantity': 80},\n",
       " '1029': {'name': 'Bread', 'price': 10, 'quantity': 40},\n",
       " '1030': {'name': 'Butter', 'price': 50, 'quantity': 60}}"
      ]
     },
     "execution_count": 50,
     "metadata": {},
     "output_type": "execute_result"
    }
   ],
   "source": [
    "record"
   ]
  },
  {
   "cell_type": "code",
   "execution_count": 51,
   "metadata": {},
   "outputs": [],
   "source": [
    "import json\n",
    "js=json.dumps(record)"
   ]
  },
  {
   "cell_type": "code",
   "execution_count": 52,
   "metadata": {},
   "outputs": [
    {
     "data": {
      "text/plain": [
       "'{\"1001\": {\"name\": \"chocolate\", \"price\": 30, \"quantity\": 110}, \"1002\": {\"name\": \"SoftDrink\", \"price\": 45, \"quantity\": 115}, \"1003\": {\"name\": \"cake\", \"price\": 60, \"quantity\": 114}, \"1004\": {\"name\": \"chips\", \"price\": 15, \"quantity\": 150}, \"1005\": {\"name\": \"MineralWater\", \"price\": 10, \"quantity\": 80}, \"1006\": {\"name\": \"spices\", \"price\": 10, \"quantity\": 120}, \"1007\": {\"name\": \"cereals\", \"price\": 50, \"quantity\": 200}, \"1008\": {\"name\": \"CornFlakes\", \"price\": 120, \"quantity\": 100}, \"1009\": {\"name\": \"Maggie\", \"price\": 12, \"quantity\": 100}, \"1010\": {\"name\": \"Biscuits\", \"price\": 15, \"quantity\": 114}, \"1011\": {\"name\": \"candy\", \"price\": 5, \"quantity\": 90}, \"1012\": {\"name\": \"MilkCake\", \"price\": 50, \"quantity\": 100}, \"1013\": {\"name\": \"cookies\", \"price\": 40, \"quantity\": 110}, \"1014\": {\"name\": \"juice\", \"price\": 70, \"quantity\": 200}, \"1015\": {\"name\": \"noodles\", \"price\": 20, \"quantity\": 116}, \"1016\": {\"name\": \"Notebooks\", \"price\": 40, \"quantity\": 110}, \"1017\": {\"name\": \"Pencil\", \"price\": 5, \"quantity\": 70}, \"1018\": {\"name\": \"Pen\", \"price\": 10, \"quantity\": 90}, \"1019\": {\"name\": \"ChocolateCake\", \"price\": 110, \"quantity\": 50}, \"1020\": {\"name\": \"earphones\", \"price\": 50, \"quantity\": 150}, \"1021\": {\"name\": \"PhoneCase\", \"price\": 70, \"quantity\": 100}, \"1022\": {\"name\": \"Headphones\", \"price\": 1500, \"quantity\": 100}, \"1023\": {\"name\": \"WirelessMouse\", \"price\": 120, \"quantity\": 50}, \"1024\": {\"name\": \"CelloTape\", \"price\": 50, \"quantity\": 80}, \"1025\": {\"name\": \"Fevicol\", \"price\": 20, \"quantity\": 60}, \"1026\": {\"name\": \"writingpad\", \"price\": 60, \"quantity\": 100}, \"1027\": {\"name\": \"Scissor\", \"price\": 30, \"quantity\": 70}, \"1028\": {\"name\": \"Pasta\", \"price\": 15, \"quantity\": 80}, \"1029\": {\"name\": \"Bread\", \"price\": 10, \"quantity\": 40}, \"1030\": {\"name\": \"Butter\", \"price\": 50, \"quantity\": 60}}'"
      ]
     },
     "execution_count": 52,
     "metadata": {},
     "output_type": "execute_result"
    }
   ],
   "source": [
    "js"
   ]
  },
  {
   "cell_type": "code",
   "execution_count": 53,
   "metadata": {},
   "outputs": [
    {
     "data": {
      "text/plain": [
       "str"
      ]
     },
     "execution_count": 53,
     "metadata": {},
     "output_type": "execute_result"
    }
   ],
   "source": [
    "type(js)"
   ]
  },
  {
   "cell_type": "code",
   "execution_count": 54,
   "metadata": {},
   "outputs": [
    {
     "data": {
      "text/plain": [
       "dict"
      ]
     },
     "execution_count": 54,
     "metadata": {},
     "output_type": "execute_result"
    }
   ],
   "source": [
    "type(record)"
   ]
  },
  {
   "cell_type": "code",
   "execution_count": 55,
   "metadata": {},
   "outputs": [],
   "source": [
    "fd = open(\"Records.json\",\"w\")\n",
    "fd.write(js)\n",
    "fd.close()"
   ]
  },
  {
   "cell_type": "code",
   "execution_count": 56,
   "metadata": {},
   "outputs": [],
   "source": [
    "fd = open(\"Records.txt\",\"r\")\n",
    "txt = fd.read()\n",
    "fd.close()"
   ]
  },
  {
   "cell_type": "code",
   "execution_count": 57,
   "metadata": {},
   "outputs": [
    {
     "ename": "JSONDecodeError",
     "evalue": "Extra data: line 1 column 5 (char 4)",
     "output_type": "error",
     "traceback": [
      "\u001b[1;31m---------------------------------------------------------------------------\u001b[0m",
      "\u001b[1;31mJSONDecodeError\u001b[0m                           Traceback (most recent call last)",
      "\u001b[1;32m<ipython-input-57-3dbeef777472>\u001b[0m in \u001b[0;36m<module>\u001b[1;34m\u001b[0m\n\u001b[1;32m----> 1\u001b[1;33m \u001b[0mrecord\u001b[0m\u001b[1;33m=\u001b[0m\u001b[0mjson\u001b[0m\u001b[1;33m.\u001b[0m\u001b[0mloads\u001b[0m\u001b[1;33m(\u001b[0m\u001b[0mtxt\u001b[0m\u001b[1;33m)\u001b[0m\u001b[1;33m\u001b[0m\u001b[1;33m\u001b[0m\u001b[0m\n\u001b[0m",
      "\u001b[1;32m~\\Anaconda3\\lib\\json\\__init__.py\u001b[0m in \u001b[0;36mloads\u001b[1;34m(s, encoding, cls, object_hook, parse_float, parse_int, parse_constant, object_pairs_hook, **kw)\u001b[0m\n\u001b[0;32m    346\u001b[0m             \u001b[0mparse_int\u001b[0m \u001b[1;32mis\u001b[0m \u001b[1;32mNone\u001b[0m \u001b[1;32mand\u001b[0m \u001b[0mparse_float\u001b[0m \u001b[1;32mis\u001b[0m \u001b[1;32mNone\u001b[0m \u001b[1;32mand\u001b[0m\u001b[1;33m\u001b[0m\u001b[1;33m\u001b[0m\u001b[0m\n\u001b[0;32m    347\u001b[0m             parse_constant is None and object_pairs_hook is None and not kw):\n\u001b[1;32m--> 348\u001b[1;33m         \u001b[1;32mreturn\u001b[0m \u001b[0m_default_decoder\u001b[0m\u001b[1;33m.\u001b[0m\u001b[0mdecode\u001b[0m\u001b[1;33m(\u001b[0m\u001b[0ms\u001b[0m\u001b[1;33m)\u001b[0m\u001b[1;33m\u001b[0m\u001b[1;33m\u001b[0m\u001b[0m\n\u001b[0m\u001b[0;32m    349\u001b[0m     \u001b[1;32mif\u001b[0m \u001b[0mcls\u001b[0m \u001b[1;32mis\u001b[0m \u001b[1;32mNone\u001b[0m\u001b[1;33m:\u001b[0m\u001b[1;33m\u001b[0m\u001b[1;33m\u001b[0m\u001b[0m\n\u001b[0;32m    350\u001b[0m         \u001b[0mcls\u001b[0m \u001b[1;33m=\u001b[0m \u001b[0mJSONDecoder\u001b[0m\u001b[1;33m\u001b[0m\u001b[1;33m\u001b[0m\u001b[0m\n",
      "\u001b[1;32m~\\Anaconda3\\lib\\json\\decoder.py\u001b[0m in \u001b[0;36mdecode\u001b[1;34m(self, s, _w)\u001b[0m\n\u001b[0;32m    338\u001b[0m         \u001b[0mend\u001b[0m \u001b[1;33m=\u001b[0m \u001b[0m_w\u001b[0m\u001b[1;33m(\u001b[0m\u001b[0ms\u001b[0m\u001b[1;33m,\u001b[0m \u001b[0mend\u001b[0m\u001b[1;33m)\u001b[0m\u001b[1;33m.\u001b[0m\u001b[0mend\u001b[0m\u001b[1;33m(\u001b[0m\u001b[1;33m)\u001b[0m\u001b[1;33m\u001b[0m\u001b[1;33m\u001b[0m\u001b[0m\n\u001b[0;32m    339\u001b[0m         \u001b[1;32mif\u001b[0m \u001b[0mend\u001b[0m \u001b[1;33m!=\u001b[0m \u001b[0mlen\u001b[0m\u001b[1;33m(\u001b[0m\u001b[0ms\u001b[0m\u001b[1;33m)\u001b[0m\u001b[1;33m:\u001b[0m\u001b[1;33m\u001b[0m\u001b[1;33m\u001b[0m\u001b[0m\n\u001b[1;32m--> 340\u001b[1;33m             \u001b[1;32mraise\u001b[0m \u001b[0mJSONDecodeError\u001b[0m\u001b[1;33m(\u001b[0m\u001b[1;34m\"Extra data\"\u001b[0m\u001b[1;33m,\u001b[0m \u001b[0ms\u001b[0m\u001b[1;33m,\u001b[0m \u001b[0mend\u001b[0m\u001b[1;33m)\u001b[0m\u001b[1;33m\u001b[0m\u001b[1;33m\u001b[0m\u001b[0m\n\u001b[0m\u001b[0;32m    341\u001b[0m         \u001b[1;32mreturn\u001b[0m \u001b[0mobj\u001b[0m\u001b[1;33m\u001b[0m\u001b[1;33m\u001b[0m\u001b[0m\n\u001b[0;32m    342\u001b[0m \u001b[1;33m\u001b[0m\u001b[0m\n",
      "\u001b[1;31mJSONDecodeError\u001b[0m: Extra data: line 1 column 5 (char 4)"
     ]
    }
   ],
   "source": [
    "record=json.loads(txt)"
   ]
  },
  {
   "cell_type": "code",
   "execution_count": 58,
   "metadata": {},
   "outputs": [
    {
     "data": {
      "text/plain": [
       "{'1001': {'name': 'chocolate', 'price': 30, 'quantity': 110},\n",
       " '1002': {'name': 'SoftDrink', 'price': 45, 'quantity': 115},\n",
       " '1003': {'name': 'cake', 'price': 60, 'quantity': 114},\n",
       " '1004': {'name': 'chips', 'price': 15, 'quantity': 150},\n",
       " '1005': {'name': 'MineralWater', 'price': 10, 'quantity': 80},\n",
       " '1006': {'name': 'spices', 'price': 10, 'quantity': 120},\n",
       " '1007': {'name': 'cereals', 'price': 50, 'quantity': 200},\n",
       " '1008': {'name': 'CornFlakes', 'price': 120, 'quantity': 100},\n",
       " '1009': {'name': 'Maggie', 'price': 12, 'quantity': 100},\n",
       " '1010': {'name': 'Biscuits', 'price': 15, 'quantity': 114},\n",
       " '1011': {'name': 'candy', 'price': 5, 'quantity': 90},\n",
       " '1012': {'name': 'MilkCake', 'price': 50, 'quantity': 100},\n",
       " '1013': {'name': 'cookies', 'price': 40, 'quantity': 110},\n",
       " '1014': {'name': 'juice', 'price': 70, 'quantity': 200},\n",
       " '1015': {'name': 'noodles', 'price': 20, 'quantity': 116},\n",
       " '1016': {'name': 'Notebooks', 'price': 40, 'quantity': 110},\n",
       " '1017': {'name': 'Pencil', 'price': 5, 'quantity': 70},\n",
       " '1018': {'name': 'Pen', 'price': 10, 'quantity': 90},\n",
       " '1019': {'name': 'ChocolateCake', 'price': 110, 'quantity': 50},\n",
       " '1020': {'name': 'earphones', 'price': 50, 'quantity': 150},\n",
       " '1021': {'name': 'PhoneCase', 'price': 70, 'quantity': 100},\n",
       " '1022': {'name': 'Headphones', 'price': 1500, 'quantity': 100},\n",
       " '1023': {'name': 'WirelessMouse', 'price': 120, 'quantity': 50},\n",
       " '1024': {'name': 'CelloTape', 'price': 50, 'quantity': 80},\n",
       " '1025': {'name': 'Fevicol', 'price': 20, 'quantity': 60},\n",
       " '1026': {'name': 'writingpad', 'price': 60, 'quantity': 100},\n",
       " '1027': {'name': 'Scissor', 'price': 30, 'quantity': 70},\n",
       " '1028': {'name': 'Pasta', 'price': 15, 'quantity': 80},\n",
       " '1029': {'name': 'Bread', 'price': 10, 'quantity': 40},\n",
       " '1030': {'name': 'Butter', 'price': 50, 'quantity': 60}}"
      ]
     },
     "execution_count": 58,
     "metadata": {},
     "output_type": "execute_result"
    }
   ],
   "source": [
    "record"
   ]
  },
  {
   "cell_type": "code",
   "execution_count": 48,
   "metadata": {},
   "outputs": [
    {
     "data": {
      "text/plain": [
       "{'1001': {'name': 'chocolate', 'price': 30, 'quantity': 90},\n",
       " '1002': {'name': 'SoftDrink', 'price': 45, 'quantity': 115},\n",
       " '1003': {'name': 'cake', 'price': 60, 'quantity': 114},\n",
       " '1004': {'name': 'chips', 'price': 15, 'quantity': 150},\n",
       " '1005': {'name': 'MineralWater', 'price': 10, 'quantity': 80},\n",
       " '1006': {'name': 'spices', 'price': 10, 'quantity': 120},\n",
       " '1007': {'name': 'cereals', 'price': 50, 'quantity': 200},\n",
       " '1008': {'name': 'CornFlakes', 'price': 120, 'quantity': 100},\n",
       " '1009': {'name': 'Maggie', 'price': 12, 'quantity': 100},\n",
       " '1010': {'name': 'Biscuits', 'price': 15, 'quantity': 114},\n",
       " '1011': {'name': 'candy', 'price': 5, 'quantity': 90},\n",
       " '1012': {'name': 'MilkCake', 'price': 50, 'quantity': 100},\n",
       " '1013': {'name': 'cookies', 'price': 40, 'quantity': 110},\n",
       " '1014': {'name': 'juice', 'price': 70, 'quantity': 200},\n",
       " '1015': {'name': 'noodles', 'price': 20, 'quantity': 116},\n",
       " '1016': {'name': 'Notebooks', 'price': 40, 'quantity': 110},\n",
       " '1017': {'name': 'Pencil', 'price': 5, 'quantity': 70},\n",
       " '1018': {'name': 'Pen', 'price': 10, 'quantity': 90},\n",
       " '1019': {'name': 'ChocolateCake', 'price': 110, 'quantity': 50},\n",
       " '1020': {'name': 'earphones', 'price': 50, 'quantity': 150},\n",
       " '1021': {'name': 'PhoneCase', 'price': 70, 'quantity': 100},\n",
       " '1022': {'name': 'Headphones', 'price': 1500, 'quantity': 100},\n",
       " '1023': {'name': 'WirelessMouse', 'price': 120, 'quantity': 50},\n",
       " '1024': {'name': 'CelloTape', 'price': 50, 'quantity': 80},\n",
       " '1025': {'name': 'Fevicol', 'price': 20, 'quantity': 60},\n",
       " '1026': {'name': 'writingpad', 'price': 60, 'quantity': 100},\n",
       " '1027': {'name': 'Scissor', 'price': 30, 'quantity': 70},\n",
       " '1028': {'name': 'Pasta', 'price': 15, 'quantity': 80},\n",
       " '1029': {'name': 'Bread', 'price': 10, 'quantity': 40},\n",
       " '1030': {'name': 'Butter', 'price': 50, 'quantity': 60}}"
      ]
     },
     "execution_count": 48,
     "metadata": {},
     "output_type": "execute_result"
    }
   ],
   "source": [
    "\n",
    "import json\n",
    "\n",
    "fd = open(\"records.json\",'r')\n",
    "r = fd.read()\n",
    "fd.close()\n",
    "\n",
    "record = json.loads(r)\n",
    "record"
   ]
  },
  {
   "cell_type": "code",
   "execution_count": 47,
   "metadata": {},
   "outputs": [
    {
     "name": "stdout",
     "output_type": "stream",
     "text": [
      "{'1001': {'name': 'chocolate', 'price': 30, 'quantity': 85}, '1002': {'name': 'SoftDrink', 'price': 45, 'quantity': 106}, '1003': {'name': 'cake', 'price': 60, 'quantity': 114}, '1004': {'name': 'chips', 'price': 15, 'quantity': 150}, '1005': {'name': 'MineralWater', 'price': 10, 'quantity': 80}, '1006': {'name': 'spices', 'price': 10, 'quantity': 120}, '1007': {'name': 'cereals', 'price': 50, 'quantity': 200}, '1008': {'name': 'CornFlakes', 'price': 120, 'quantity': 100}, '1009': {'name': 'Maggie', 'price': 12, 'quantity': 100}, '1010': {'name': 'Biscuits', 'price': 15, 'quantity': 114}, '1011': {'name': 'candy', 'price': 5, 'quantity': 90}, '1012': {'name': 'MilkCake', 'price': 50, 'quantity': 100}, '1013': {'name': 'cookies', 'price': 40, 'quantity': 110}, '1014': {'name': 'juice', 'price': 70, 'quantity': 200}, '1015': {'name': 'noodles', 'price': 20, 'quantity': 116}, '1016': {'name': 'Notebooks', 'price': 40, 'quantity': 110}, '1017': {'name': 'Pencil', 'price': 5, 'quantity': 70}, '1018': {'name': 'Pen', 'price': 10, 'quantity': 90}, '1019': {'name': 'ChocolateCake', 'price': 110, 'quantity': 50}, '1020': {'name': 'earphones', 'price': 50, 'quantity': 150}, '1021': {'name': 'PhoneCase', 'price': 70, 'quantity': 100}, '1022': {'name': 'Headphones', 'price': 1500, 'quantity': 100}, '1023': {'name': 'WirelessMouse', 'price': 120, 'quantity': 50}, '1024': {'name': 'CelloTape', 'price': 50, 'quantity': 80}, '1025': {'name': 'Fevicol', 'price': 20, 'quantity': 60}, '1026': {'name': 'writingpad', 'price': 60, 'quantity': 100}, '1027': {'name': 'Scissor', 'price': 30, 'quantity': 70}, '1028': {'name': 'Pasta', 'price': 15, 'quantity': 80}, '1029': {'name': 'Bread', 'price': 10, 'quantity': 40}, '1030': {'name': 'Butter', 'price': 50, 'quantity': 60}, '1031': {'name': 'hairoil', 'pr': 50, 'qn': 100}}\n"
     ]
    }
   ],
   "source": [
    "print(record)"
   ]
  },
  {
   "cell_type": "code",
   "execution_count": 39,
   "metadata": {},
   "outputs": [
    {
     "name": "stdout",
     "output_type": "stream",
     "text": [
      "Enter the product_Id: 1002\n",
      "Enter the quantity: 4\n",
      "*****************************************\n",
      "Product:  SoftDrink\n",
      "Price:  45\n",
      "------------------------------------------\n",
      "Billing Amount:  180\n",
      "****************************************\n"
     ]
    }
   ],
   "source": [
    "ui_prod  = str(input(\"Enter the product_Id: \"))\n",
    "ui_quant = int(input(\"Enter the quantity: \"))\n",
    "\n",
    "\n",
    "print(\"*****************************************\")\n",
    "print(\"Product: \", record[ui_prod]['name'])\n",
    "print(\"Price: \", record[ui_prod]['price'])\n",
    "print(\"------------------------------------------\")\n",
    "print(\"Billing Amount: \", record[ui_prod]['price'] * ui_quant)\n",
    "print(\"****************************************\")\n",
    "\n",
    "record[ui_prod]['quantity'] = record[ui_prod]['quantity'] - ui_quant"
   ]
  },
  {
   "cell_type": "code",
   "execution_count": 9,
   "metadata": {},
   "outputs": [],
   "source": [
    "js = json.dumps(record)\n",
    "\n",
    "fd = open(\"records.json\",'w')\n",
    "fd.write(js)\n",
    "fd.close()"
   ]
  },
  {
   "cell_type": "code",
   "execution_count": 10,
   "metadata": {},
   "outputs": [
    {
     "name": "stdout",
     "output_type": "stream",
     "text": [
      "Enter product id:1031\n",
      "Enter name:hairoil\n",
      "Enter price:50\n",
      "Enter quantity:100\n"
     ]
    }
   ],
   "source": [
    "prod_id = str(input(\"Enter product id:\"))\n",
    "name = str(input(\"Enter name:\"))\n",
    "pr = int(input(\"Enter price:\"))\n",
    "qn = int(input(\"Enter quantity:\"))\n",
    "\n",
    "record[prod_id] = {'name': name, 'price': pr, 'quantity': qn}\n",
    "\n",
    "js = json.dumps(record)\n",
    "\n",
    "fd = open(\"record.json\",'w')\n",
    "fd.write(js)\n",
    "fd.close()"
   ]
  },
  {
   "cell_type": "code",
   "execution_count": 45,
   "metadata": {},
   "outputs": [
    {
     "name": "stdout",
     "output_type": "stream",
     "text": [
      "enter the sales id3\n"
     ]
    }
   ],
   "source": [
    "s=int(input(\"enter the sales id\"))\n",
    "sales[s] = {'product' : ui_prod, 'quantity' : ui_quant, 'amount': record[ui_prod]['price'] * ui_quant}\n",
    "\n",
    "sale = json.dumps(sales)\n",
    "fd = open(\"sales.json\",'w')\n",
    "fd.write(sale)\n",
    "fd.close()"
   ]
  },
  {
   "cell_type": "code",
   "execution_count": 33,
   "metadata": {},
   "outputs": [],
   "source": [
    "sale = json.dumps(sales)\n",
    "fd = open(\"sales.json\",'w')\n",
    "fd.write(sale)\n",
    "fd.close()"
   ]
  },
  {
   "cell_type": "code",
   "execution_count": 49,
   "metadata": {},
   "outputs": [
    {
     "name": "stdout",
     "output_type": "stream",
     "text": [
      "{\"2\": {\"product\": \"1002\", \"quantity\": 4, \"amount\": 180}, \"3\": {\"product\": \"1002\", \"quantity\": 4, \"amount\": 180}}\n"
     ]
    }
   ],
   "source": [
    "print(sale)"
   ]
  },
  {
   "cell_type": "code",
   "execution_count": 11,
   "metadata": {},
   "outputs": [
    {
     "data": {
      "text/plain": [
       "'{\"1001\": {\"name\": \"chocolate\", \"price\": 30, \"quantity\": 90}, \"1002\": {\"name\": \"SoftDrink\", \"price\": 45, \"quantity\": 115}, \"1003\": {\"name\": \"cake\", \"price\": 60, \"quantity\": 114}, \"1004\": {\"name\": \"chips\", \"price\": 15, \"quantity\": 150}, \"1005\": {\"name\": \"MineralWater\", \"price\": 10, \"quantity\": 80}, \"1006\": {\"name\": \"spices\", \"price\": 10, \"quantity\": 120}, \"1007\": {\"name\": \"cereals\", \"price\": 50, \"quantity\": 200}, \"1008\": {\"name\": \"CornFlakes\", \"price\": 120, \"quantity\": 100}, \"1009\": {\"name\": \"Maggie\", \"price\": 12, \"quantity\": 100}, \"1010\": {\"name\": \"Biscuits\", \"price\": 15, \"quantity\": 114}, \"1011\": {\"name\": \"candy\", \"price\": 5, \"quantity\": 90}, \"1012\": {\"name\": \"MilkCake\", \"price\": 50, \"quantity\": 100}, \"1013\": {\"name\": \"cookies\", \"price\": 40, \"quantity\": 110}, \"1014\": {\"name\": \"juice\", \"price\": 70, \"quantity\": 200}, \"1015\": {\"name\": \"noodles\", \"price\": 20, \"quantity\": 116}, \"1016\": {\"name\": \"Notebooks\", \"price\": 40, \"quantity\": 110}, \"1017\": {\"name\": \"Pencil\", \"price\": 5, \"quantity\": 70}, \"1018\": {\"name\": \"Pen\", \"price\": 10, \"quantity\": 90}, \"1019\": {\"name\": \"ChocolateCake\", \"price\": 110, \"quantity\": 50}, \"1020\": {\"name\": \"earphones\", \"price\": 50, \"quantity\": 150}, \"1021\": {\"name\": \"PhoneCase\", \"price\": 70, \"quantity\": 100}, \"1022\": {\"name\": \"Headphones\", \"price\": 1500, \"quantity\": 100}, \"1023\": {\"name\": \"WirelessMouse\", \"price\": 120, \"quantity\": 50}, \"1024\": {\"name\": \"CelloTape\", \"price\": 50, \"quantity\": 80}, \"1025\": {\"name\": \"Fevicol\", \"price\": 20, \"quantity\": 60}, \"1026\": {\"name\": \"writingpad\", \"price\": 60, \"quantity\": 100}, \"1027\": {\"name\": \"Scissor\", \"price\": 30, \"quantity\": 70}, \"1028\": {\"name\": \"Pasta\", \"price\": 15, \"quantity\": 80}, \"1029\": {\"name\": \"Bread\", \"price\": 10, \"quantity\": 40}, \"1030\": {\"name\": \"Butter\", \"price\": 50, \"quantity\": 60}, \"1031\": {\"name\": \"hairoil\", \"pr\": 50, \"qn\": 100}}'"
      ]
     },
     "execution_count": 11,
     "metadata": {},
     "output_type": "execute_result"
    }
   ],
   "source": [
    "js"
   ]
  },
  {
   "cell_type": "code",
   "execution_count": 70,
   "metadata": {},
   "outputs": [
    {
     "name": "stdout",
     "output_type": "stream",
     "text": [
      "**********************************************\n",
      "welcome to the inventory management system\n",
      "**********************************************\n",
      "                                               \n",
      "                                               \n",
      "1--->Add Product in inventory\n",
      "2--->Genrate Bill for Customer\n",
      "3--->Check items in inventory\n",
      "4--->Update Sales Record\n",
      "5--->View Sales Record\n",
      "                                               \n",
      "                                               \n",
      "enter your option5\n",
      "{\"2\": {\"product\": \"1002\", \"quantity\": 4, \"amount\": 180}, \"3\": {\"product\": \"1002\", \"quantity\": 4, \"amount\": 180}, \"4\": {\"product\": \"1003\", \"quantity\": 5, \"amount\": 300}, \"5\": {\"product\": \"1006\", \"quantity\": 8, \"amount\": 80}, \"6\": {\"product\": \"1008\", \"quantity\": 10, \"amount\": 1200}, \"7\": {\"product\": \"1015\", \"quantity\": 8, \"amount\": 160}, \"8\": {\"product\": \"1016\", \"quantity\": 11, \"amount\": 440}, \"9\": {\"product\": \"1021\", \"quantity\": 10, \"amount\": 700}, \"10\": {\"product\": \"1014\", \"quantity\": 5, \"amount\": 350}, \"11\": {\"product\": \"1017\", \"quantity\": 11, \"amount\": 55}}\n"
     ]
    }
   ],
   "source": [
    "print(\"**********************************************\")\n",
    "print(\"welcome to the inventory management system\")\n",
    "print(\"**********************************************\")\n",
    "print(\"                                               \")\n",
    "print(\"                                               \")\n",
    "print(\"1--->Add Product in inventory\")\n",
    "print(\"2--->Genrate Bill for Customer\")\n",
    "print(\"3--->Check items in inventory\")\n",
    "print(\"4--->Update Sales Record\")\n",
    "print(\"5--->View Sales Record\")\n",
    "print(\"                                               \")\n",
    "print(\"                                               \")\n",
    "\n",
    "\n",
    "n=int(input(\"enter your option\"))\n",
    "if(n==0 or n>5):\n",
    "    print(\"Invalid Option\")\n",
    "    \n",
    "if(n==1):\n",
    "    prod_id = str(input(\"Enter product id:\"))\n",
    "    name = str(input(\"Enter name:\"))\n",
    "    pr = int(input(\"Enter price:\"))\n",
    "    qn = int(input(\"Enter quantity:\"))\n",
    "\n",
    "    record[prod_id] = {'name': name, 'price': pr, 'quantity': qn}\n",
    "\n",
    "    js = json.dumps(record)\n",
    "\n",
    "    fd = open(\"record.json\",'w')\n",
    "    fd.write(js)\n",
    "    fd.close()\n",
    "    \n",
    "elif(n==2):\n",
    "    ui_prod  = str(input(\"Enter the product_Id: \"))\n",
    "    ui_quant = int(input(\"Enter the quantity: \"))\n",
    "\n",
    "\n",
    "    print(\"*****************************************\")\n",
    "    print(\"Product: \", record[ui_prod]['name'])\n",
    "    print(\"Price: \", record[ui_prod]['price'])\n",
    "    print(\"------------------------------------------\")\n",
    "    print(\"Billing Amount: \", record[ui_prod]['price'] * ui_quant)\n",
    "    print(\"****************************************\")\n",
    "\n",
    "    record[ui_prod]['quantity'] = record[ui_prod]['quantity'] - ui_quant\n",
    "    \n",
    "    js = json.dumps(record)\n",
    "\n",
    "    fd = open(\"records.json\",'w')\n",
    "    fd.write(js)\n",
    "    fd.close()\n",
    "    \n",
    "elif(n==3):\n",
    "   \n",
    "\n",
    "    fd = open(\"records.json\",'r')\n",
    "    r = fd.read()\n",
    "    fd.close()\n",
    "\n",
    "    record = json.loads(r)\n",
    "    print(record)\n",
    "    \n",
    "elif(n==4):\n",
    "    s=int(input(\"enter the sales id\"))\n",
    "    sales[s] = {'product' : ui_prod, 'quantity' : ui_quant, 'amount': record[ui_prod]['price'] * ui_quant}\n",
    "\n",
    "    sale = json.dumps(sales)\n",
    "    fd = open(\"sales.json\",'w')\n",
    "    fd.write(sale)\n",
    "    fd.close()\n",
    "    \n",
    "    sale = json.dumps(sales)\n",
    "    fd = open(\"sales.json\",'w')\n",
    "    fd.write(sale)\n",
    "    fd.close()\n",
    "    \n",
    "    print(\"Sales Book is updated\")\n",
    "    \n",
    "elif(n==5):\n",
    "    sale = json.dumps(sales)\n",
    "    fd = open(\"sales.json\",'w')\n",
    "    fd.write(sale)\n",
    "    fd.close()\n",
    "    print(sale)\n",
    "    \n",
    "else:\n",
    "    print(\"Invalid number\")"
   ]
  },
  {
   "cell_type": "code",
   "execution_count": null,
   "metadata": {},
   "outputs": [],
   "source": []
  }
 ],
 "metadata": {
  "kernelspec": {
   "display_name": "Python 3",
   "language": "python",
   "name": "python3"
  },
  "language_info": {
   "codemirror_mode": {
    "name": "ipython",
    "version": 3
   },
   "file_extension": ".py",
   "mimetype": "text/x-python",
   "name": "python",
   "nbconvert_exporter": "python",
   "pygments_lexer": "ipython3",
   "version": "3.7.3"
  }
 },
 "nbformat": 4,
 "nbformat_minor": 2
}
